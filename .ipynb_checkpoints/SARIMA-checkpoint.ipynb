{
 "cells": [
  {
   "cell_type": "code",
   "execution_count": 1,
   "id": "bcfcec58-cbb7-4d3f-92a1-1d21f7d43065",
   "metadata": {},
   "outputs": [],
   "source": [
    "import pandas as pd"
   ]
  },
  {
   "cell_type": "code",
   "execution_count": 2,
   "id": "452d03c4-7608-435c-ae3c-5225e7f85de1",
   "metadata": {},
   "outputs": [],
   "source": [
    "daily = pd.read_csv(r'Apple-daily.csv')"
   ]
  },
  {
   "cell_type": "code",
   "execution_count": 4,
   "id": "df284f71-6296-4aa5-adbe-44be85e9d076",
   "metadata": {},
   "outputs": [],
   "source": [
    "x = daily[['Open','High','Low','Volume']]\n",
    "y = daily[['Close','Adj Close']]"
   ]
  },
  {
   "cell_type": "code",
   "execution_count": 5,
   "id": "01370883-d18b-4558-a337-1912f7b5a9c9",
   "metadata": {},
   "outputs": [],
   "source": [
    "from sklearn.model_selection import train_test_split as tts"
   ]
  },
  {
   "cell_type": "code",
   "execution_count": 6,
   "id": "caee01d0-dc06-4438-b128-d7ed5637ffe5",
   "metadata": {},
   "outputs": [],
   "source": [
    "x_train ,x_test , y_train , y_test  = tts(x , y , test_size= 0.2 , random_state= 0)"
   ]
  },
  {
   "cell_type": "code",
   "execution_count": null,
   "id": "81535405-673f-4094-ba35-a43384ab4510",
   "metadata": {},
   "outputs": [],
   "source": []
  }
 ],
 "metadata": {
  "kernelspec": {
   "display_name": "Python 3 (ipykernel)",
   "language": "python",
   "name": "python3"
  },
  "language_info": {
   "codemirror_mode": {
    "name": "ipython",
    "version": 3
   },
   "file_extension": ".py",
   "mimetype": "text/x-python",
   "name": "python",
   "nbconvert_exporter": "python",
   "pygments_lexer": "ipython3",
   "version": "3.11.4"
  }
 },
 "nbformat": 4,
 "nbformat_minor": 5
}
